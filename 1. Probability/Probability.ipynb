{
 "cells": [
  {
   "cell_type": "raw",
   "id": "cf5dfade-94d1-4b25-87b7-339054f1dcb1",
   "metadata": {},
   "source": [
    "---\n",
    "project:\n",
    "  type: website\n",
    "  output-dir: docs\n",
    "\n",
    "website:\n",
    "  title: \"Probability Theory and Random Variable\"\n",
    "  format: \n",
    "    html:\n",
    "      code-fold: false\n",
    "  jupyter: python3\n",
    "---"
   ]
  },
  {
   "cell_type": "markdown",
   "id": "2dc67058-7f8f-4631-8284-1fd6e1496bab",
   "metadata": {
    "tags": []
   },
   "source": [
    "## Probability Theory\n",
    "\n",
    "Probability theory is a one of the branches in mathematics that optimize of random phenomena. The word \"Probability\" is defined in mathematics that \"The extent to wihch an event is likely to occur.\" In real world, the probability is used in case of coin tossing, card game, and rolling dice.\n",
    "\n",
    "Therefore, probability is a possible outcome derived from a event. There are many probability models in theory: random variable, normal distribution, and standard deviation, etc."
   ]
  },
  {
   "cell_type": "markdown",
   "id": "46e415fc-041c-460a-b325-eccc75e33294",
   "metadata": {},
   "source": [
    "#### Random Variable\n",
    "\n",
    "Random variable, occationally denoted as $X$, is a random number with probabilities assigned to outcomes. For example, let $X$ be a outcome of tossing a coin. A model is to assign probability of 1/2 to the head and tail equally.\n",
    "\n",
    "Also, an event is a set of possible outcomes which denoted as $E$. So, in the previous example, the event that the coin will be the head can be annoted as $E = \\{X = head\\} = \\{1\\}$ (where 0 means tail, 1 means head).\n",
    "\n",
    "Finally, the probability that of the event that the coin will be the head can be shown as $P(E) = P(X = head) = 1/2$."
   ]
  }
 ],
 "metadata": {
  "kernelspec": {
   "display_name": "Python 3 (ipykernel)",
   "language": "python",
   "name": "python3"
  },
  "language_info": {
   "codemirror_mode": {
    "name": "ipython",
    "version": 3
   },
   "file_extension": ".py",
   "mimetype": "text/x-python",
   "name": "python",
   "nbconvert_exporter": "python",
   "pygments_lexer": "ipython3",
   "version": "3.10.9"
  }
 },
 "nbformat": 4,
 "nbformat_minor": 5
}
